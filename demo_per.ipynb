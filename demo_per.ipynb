{
 "cells": [
  {
   "cell_type": "code",
   "execution_count": 13,
   "source": [
    "import torch as T\n",
    "import torch.nn as nn\n",
    "import torch.optim as optim\n",
    "import numpy as np\n",
    "import os\n",
    "import copy\n",
    "import gym\n",
    "from gym.wrappers import RescaleAction\n",
    "import random\n",
    "from torch.utils.tensorboard import SummaryWriter\n",
    "from icsl_rl.network import QNetwork\n",
    "\n",
    "from icsl_rl.utils import _read_yaml\n",
    "\n",
    "from icsl_rl.replaybuffer import PrioritizedReplayBuffer\n"
   ],
   "outputs": [],
   "metadata": {}
  },
  {
   "cell_type": "code",
   "execution_count": 14,
   "source": [
    "parameter_patgh = './icsl_rl/Hyperparameter/dqn.yaml'   # Algorithms can be chosen by themselves\n",
    "config = _read_yaml(parameter_patgh)\n",
    "print(config)"
   ],
   "outputs": [
    {
     "output_type": "stream",
     "name": "stdout",
     "text": [
      "{'algorithm': 'DQN', 'critic_lr': 0.001, 'gamma': 0.99, 'tau': 0.01, 'hidden_size': 128, 'update_rate': 100, 'buffer_size': 1000, 'batch_size': 32, 'epsilon': 1.0, 'min_epsilon': 0.1, 'epsilon_decay': 0.0005, 'use_epsilon': True, 'is_discrete': True, 'use_noisy_layer': False, 'is_off_policy': True}\n"
     ]
    }
   ],
   "metadata": {}
  },
  {
   "cell_type": "code",
   "execution_count": 15,
   "source": [
    "import argparse\n",
    "device = T.device('cuda:0' if T.cuda.is_available() else 'cpu')\n",
    "# In the jupyter book, the argparse library is not easy to use, so use the following form instead\n",
    "args = argparse.Namespace(algorithm='DQN', device=device, evaluate=False)\n",
    "args.__dict__ = config\n",
    "args.device = device                # GPU or CPU\n",
    "args.seed = 123                     # random seed setting\n",
    "args.render = False                 # Visualization during training.\n",
    "args.time_steps = 20000           # total training step\n",
    "args.episode = 1000000              # total episode\n",
    "args.save_dir = \"./model\"           # Where to store the trained model\n",
    "args.save_rate = 2000               # store rate\n",
    "args.model_dir = \"\"                 # Where to store the trained model\n",
    "args.evaluate_episodes = 10         # Parameters for Model Prediction\n",
    "args.evaluate = False                # Parameters for Model Prediction\n",
    "args.evaluate_rate = 1000           # Parameters for Model Prediction\n",
    "args.is_store_transition = False    # Store expert data\n",
    "args.env_name = 'CartPole-v0'          # discrete env\n",
    "args.alpha = 0.2\n",
    "args.beta = 0.6\n",
    "args.prior_eps = 0.000001    # 1e-6\n",
    "print(args)"
   ],
   "outputs": [
    {
     "output_type": "stream",
     "name": "stdout",
     "text": [
      "Namespace(algorithm='DQN', alpha=0.2, batch_size=32, beta=0.6, buffer_size=1000, critic_lr=0.001, device=device(type='cuda', index=0), env_name='CartPole-v0', episode=1000000, epsilon=1.0, epsilon_decay=0.0005, evaluate=False, evaluate_episodes=10, evaluate_rate=1000, gamma=0.99, hidden_size=128, is_discrete=True, is_off_policy=True, is_store_transition=False, min_epsilon=0.1, model_dir='', prior_eps=1e-06, render=False, save_dir='./model', save_rate=2000, seed=123, tau=0.01, time_steps=20000, update_rate=100, use_epsilon=True, use_noisy_layer=False)\n"
     ]
    }
   ],
   "metadata": {}
  },
  {
   "cell_type": "code",
   "execution_count": 16,
   "source": [
    "class DQNAgent(object):\n",
    "    def __init__(self, args):\n",
    "\n",
    "        self.args = args\n",
    "\n",
    "        # Environment setting\n",
    "        self.env = gym.make(args.env_name)\n",
    "        self.n_states = self.env.observation_space.shape[0]\n",
    "        self.n_actions = self.env.action_space.n\n",
    "        # print('Env : {} n_states : {} n_action : {}'.format(self.args.env_name ,self.n_states, self.n_actions))\n",
    "\n",
    "        self.checkpoint = os.path.join(args.save_dir + '/' + args.algorithm +'/' + args.env_name, 'DQN.pth')\n",
    "\n",
    "        # network setting\n",
    "        self.eval = QNetwork(self.n_states, self.n_actions, args)\n",
    "        self.criterion = nn.MSELoss(reduction='none')\n",
    "\n",
    "        self.target = copy.deepcopy(self.eval)\n",
    "        self.target.eval()\n",
    "        for p in self.target.parameters():\n",
    "            p.requires_grad = False\n",
    "\n",
    "        # optimizer setting\n",
    "        self.optimizer = optim.Adam(self.eval.parameters(), lr=self.args.critic_lr)\n",
    "\n",
    "        # replay buffer\n",
    "        # self.memory = ReplayBuffer(self.n_states, self.n_actions, args)\n",
    "        self.memory = PrioritizedReplayBuffer(self.n_states, self.args, self.args.buffer_size, self.args.alpha)\n",
    "        self.transition = list()\n",
    "\n",
    "        # Storage location creation\n",
    "        if not os.path.exists(self.args.save_dir):\n",
    "            os.mkdir(self.args.save_dir)\n",
    "\n",
    "        self.model_path = self.args.save_dir + '/' + args.algorithm\n",
    "        if not os.path.exists(self.model_path):\n",
    "            os.mkdir(self.model_path)\n",
    "\n",
    "        self.model_path = self.model_path + '/' + args.env_name\n",
    "        if not os.path.exists(self.model_path):\n",
    "            os.mkdir(self.model_path)\n",
    "\n",
    "        if os.path.exists(self.model_path + '/DQN.pth'):\n",
    "            self.load_models()\n",
    "\n",
    "        self.total_step = 0\n",
    "\n",
    "    def choose_action(self, state, epsilon):\n",
    "        with T.no_grad():\n",
    "            if epsilon > np.random.random() and not self.args.evaluate:\n",
    "                choose_action = self.env.action_space.sample()\n",
    "            else :\n",
    "                choose_action = self.eval(T.as_tensor(state, dtype=T.float32, device=self.args.device)).argmax()\n",
    "                choose_action = choose_action.detach().cpu().numpy()\n",
    "\n",
    "            if not self.args.evaluate:\n",
    "                self.transition = [state, choose_action]\n",
    "        return choose_action\n",
    "\n",
    "    def learn(self):\n",
    "        # TD error\n",
    "        elementwise_loss, weights, indices = self._value_update(self.memory, self.args.batch_size, self.args.beta)\n",
    "\n",
    "        critic_loss = T.mean(elementwise_loss * weights)\n",
    "\n",
    "\n",
    "        # update value\n",
    "        self.optimizer.zero_grad()\n",
    "        critic_loss.backward()\n",
    "        self.optimizer.step()\n",
    "\n",
    "        # PER: update priorities\n",
    "        loss_for_prior = elementwise_loss.detach().cpu().numpy()\n",
    "        new_priorities = loss_for_prior + self.args.prior_eps\n",
    "        # print('indices:{}  new_priorities:{}'.format(indices, new_priorities))\n",
    "        self.memory.update_priorities(indices, new_priorities)\n",
    "\n",
    "        # target network hard update\n",
    "        if self.total_step % self.args.update_rate == 0:\n",
    "            self._target_net_update(self.target, self.eval)\n",
    "\n",
    "    def save_models(self):\n",
    "        print('------ Save model ------')\n",
    "        _save_model(self.eval, self.checkpoint)\n",
    "\n",
    "    def load_models(self):\n",
    "        print('------ load model ------')\n",
    "        _load_model(self.eval, self.checkpoint)\n",
    "\n",
    "    # target network hard update\n",
    "    def _target_net_update(self, target_net, eval_net):\n",
    "        target_net.load_state_dict(eval_net.state_dict())\n",
    "\n",
    "    def _value_update(self, buffer, batch_size, beta):\n",
    "        with T.no_grad():\n",
    "            # Select data from ReplayBuffer with batch_size size\n",
    "            samples = buffer.sample_batch(batch_size, beta)\n",
    "\n",
    "            state = T.as_tensor(samples['state'], dtype=T.float32, device=self.args.device)\n",
    "            next_state = T.as_tensor(samples['next_state'], dtype=T.float32, device=self.args.device)\n",
    "\n",
    "            action = T.as_tensor(samples['action'], dtype=T.long, device=self.args.device).reshape(-1, 1)\n",
    "            reward = T.as_tensor(samples['reward'], dtype=T.float32, device=self.args.device).reshape(-1, 1)\n",
    "            mask = T.as_tensor(samples['mask'], dtype=T.float32, device=self.args.device).reshape(-1, 1)\n",
    "\n",
    "            weights = T.as_tensor(samples[\"weights\"], dtype=T.float32, device=self.args.device).reshape(-1, 1)\n",
    "            indices = samples[\"indices\"]\n",
    "\n",
    "            # print('state: {} | next_state: {} | action: {} | reward: {} | mask: {} | weights: {} | indices: {} |'.format(state, next_state, action, reward, mask, weights, indices))\n",
    "\n",
    "            next_q = self.target(next_state).max(dim=1, keepdim=True)[0]\n",
    "            # Here we calculate action value Q(s,a) = R + yV(s')\n",
    "            target_q = reward + next_q * mask\n",
    "\n",
    "        current_q = self.eval(state).gather(1, action)\n",
    "        elementwise_loss = self.criterion(current_q, target_q)\n",
    "        # print('elementwise_loss : {}'.format(elementwise_loss))\n",
    "\n",
    "        return elementwise_loss, weights, indices\n",
    "\n",
    "# model save functions\n",
    "def _save_model(net, dirpath):\n",
    "    T.save(net.state_dict(), dirpath)\n",
    "\n",
    "# model load functions\n",
    "def _load_model(net, dirpath):\n",
    "    net.load_state_dict(T.load(dirpath))"
   ],
   "outputs": [],
   "metadata": {}
  },
  {
   "cell_type": "code",
   "execution_count": 17,
   "source": [
    "import numpy as np\n",
    "from icsl_rl.utils import _make_gif, _evaluate_agent, _store_expert_data\n",
    "import torch as T\n",
    "\n",
    "class Runner:\n",
    "    def __init__(self, agent, args, env, writer):\n",
    "        self.args = args\n",
    "        if self.args.use_epsilon:\n",
    "            self.epsilon = args.epsilon\n",
    "        else:\n",
    "            self.epsilon = None\n",
    "        self.episode_limit = env.spec.max_episode_steps\n",
    "        self.env = env\n",
    "        self.agent = agent\n",
    "        self.writer = writer\n",
    "\n",
    "    def run(self):\n",
    "        best_score = self.env.reward_range[0]\n",
    "\n",
    "        scores = []\n",
    "        store_scores = []\n",
    "        eval_rewards = []\n",
    "\n",
    "        avg_score = 0\n",
    "        n_updates = 0\n",
    "\n",
    "        for i in range(self.args.episode):\n",
    "            state = self.env.reset()\n",
    "            cur_episode_steps = 0\n",
    "            score = 0\n",
    "            done = False\n",
    "            while (not done):\n",
    "                if self.args.render:\n",
    "                    self.env.render()\n",
    "\n",
    "                cur_episode_steps += 1\n",
    "                self.agent.total_step += 1\n",
    "\n",
    "                action = self.agent.choose_action(state, self.epsilon)\n",
    "                next_state, reward, done, _ = self.env.step(action)\n",
    "\n",
    "                real_done = False if cur_episode_steps >= self.episode_limit else done\n",
    "                mask = 0.0 if real_done else self.args.gamma\n",
    "                self.agent.transition += [reward, next_state, mask]\n",
    "                self.agent.memory.store(*self.agent.transition)\n",
    "                state = next_state\n",
    "                score += reward\n",
    "\n",
    "                fraction = min(self.agent.total_step / self.args.time_steps, 1.0)\n",
    "                self.args.beta = self.args.beta + fraction * (1.0 - self.args.beta)\n",
    "\n",
    "\n",
    "                if self.agent.memory.ready(self.args.batch_size):\n",
    "                    self.agent.learn()\n",
    "                    n_updates += 1\n",
    "                    self.epsilon = max(0.1, self.epsilon - self.args.epsilon_decay)\n",
    "\n",
    "\n",
    "                if self.agent.total_step % self.args.evaluate_rate == 0 and self.agent.memory.ready(self.args.batch_size):\n",
    "                    running_reward = np.mean(scores[-10:])\n",
    "                    eval_reward = _evaluate_agent(self.env, self.agent, self.args, n_starts=self.args.evaluate_episodes)\n",
    "                    eval_rewards.append(eval_reward)\n",
    "                    self.writer.add_scalar('Reward/Train', running_reward, self.agent.total_step)\n",
    "                    self.writer.add_scalar('Reward/Test', eval_reward, self.agent.total_step)\n",
    "                    print('| Episode : {} | Score : {} | Predict Score : {} | Avg score : {} |'.format(i, round(score, 2), round(eval_reward, 2), round(avg_score, 2)))\n",
    "                    scores = []\n",
    "\n",
    "            scores.append(score)\n",
    "            store_scores.append(score)\n",
    "            avg_score = np.mean(store_scores[-10:])\n",
    "\n",
    "            np.savetxt(self.args.save_dir + '/' + self.args.algorithm + '/' + self.args.env_name + '/episode_return.txt', store_scores, delimiter=\",\")\n",
    "            np.savetxt(self.args.save_dir + '/' + self.args.algorithm + '/' + self.args.env_name + '/step_return.txt', eval_rewards, delimiter=\",\")\n",
    "\n",
    "            if avg_score > best_score:\n",
    "                best_score = avg_score\n",
    "                self.agent.save_models()\n",
    "\n",
    "            if self.agent.total_step >= self.args.time_steps:\n",
    "                print('Reach the maximum number of training steps ！')\n",
    "                break\n",
    "\n",
    "\n",
    "            if avg_score == 200:            # early stopping\n",
    "                print('Stop Training')\n",
    "                break\n",
    "\n",
    "            print('Episode : {} | Score : {} | Avg score : {} | Time_Step : {} |  update number : {} |'.format(i, round(score, 2), round(avg_score, 2), self.agent.total_step, n_updates))\n",
    "\n",
    "        self.env.close()\n",
    "\n",
    "    def evaluate(self):\n",
    "\n",
    "        returns = _evaluate_agent(self.env, self.agent, self.args, n_starts=1)\n",
    "\n",
    "        return returns\n",
    "\n",
    "    def gif(self, policy, env, maxsteps=1000):\n",
    "        _make_gif(policy, env, self.args, maxsteps)"
   ],
   "outputs": [],
   "metadata": {}
  },
  {
   "cell_type": "code",
   "execution_count": 18,
   "source": [
    "def _random_seed(seed):      # random seed setting\n",
    "    if T.backends.cudnn.enabled:\n",
    "        T.backends.cudnn.benchmark = False\n",
    "        T.backends.cudnn.deterministic = True\n",
    "\n",
    "    T.manual_seed(seed)\n",
    "    T.cuda.manual_seed(seed)\n",
    "    np.random.seed(seed)\n",
    "    random.seed(seed)\n",
    "    print('Using GPU : ', T.cuda.is_available() , ' |  Seed : ', seed)"
   ],
   "outputs": [],
   "metadata": {}
  },
  {
   "cell_type": "code",
   "execution_count": 19,
   "source": [
    "_random_seed(args.seed)"
   ],
   "outputs": [
    {
     "output_type": "stream",
     "name": "stdout",
     "text": [
      "Using GPU :  True  |  Seed :  123\n"
     ]
    }
   ],
   "metadata": {}
  },
  {
   "cell_type": "code",
   "execution_count": 20,
   "source": [
    "writer = SummaryWriter('./logs/' + args.algorithm)           # Tensorboard"
   ],
   "outputs": [],
   "metadata": {}
  },
  {
   "cell_type": "code",
   "execution_count": 21,
   "source": [
    "agent = DQNAgent(args)            # agent setting\n",
    "runner = Runner(agent, args, agent.env, writer)"
   ],
   "outputs": [],
   "metadata": {}
  },
  {
   "cell_type": "code",
   "execution_count": 22,
   "source": [
    "runner.run()                  # Training"
   ],
   "outputs": [
    {
     "output_type": "stream",
     "name": "stdout",
     "text": [
      "------ Save model ------\n",
      "Episode : 0 | Score : 12.0 | Avg score : 12.0 | Time_Step : 12 |  update number : 0 |\n",
      "Episode : 1 | Score : 12.0 | Avg score : 12.0 | Time_Step : 24 |  update number : 0 |\n",
      "------ Save model ------\n",
      "Episode : 2 | Score : 13.0 | Avg score : 12.33 | Time_Step : 37 |  update number : 6 |\n",
      "------ Save model ------\n",
      "Episode : 3 | Score : 41.0 | Avg score : 19.5 | Time_Step : 78 |  update number : 47 |\n",
      "------ Save model ------\n",
      "Episode : 4 | Score : 34.0 | Avg score : 22.4 | Time_Step : 112 |  update number : 81 |\n",
      "Episode : 5 | Score : 21.0 | Avg score : 22.17 | Time_Step : 133 |  update number : 102 |\n",
      "Episode : 6 | Score : 15.0 | Avg score : 21.14 | Time_Step : 148 |  update number : 117 |\n",
      "Episode : 7 | Score : 22.0 | Avg score : 21.25 | Time_Step : 170 |  update number : 139 |\n",
      "Episode : 8 | Score : 11.0 | Avg score : 20.11 | Time_Step : 181 |  update number : 150 |\n",
      "Episode : 9 | Score : 17.0 | Avg score : 19.8 | Time_Step : 198 |  update number : 167 |\n",
      "Episode : 10 | Score : 32.0 | Avg score : 21.8 | Time_Step : 230 |  update number : 199 |\n",
      "Episode : 11 | Score : 12.0 | Avg score : 21.8 | Time_Step : 242 |  update number : 211 |\n",
      "------ Save model ------\n",
      "Episode : 12 | Score : 28.0 | Avg score : 23.3 | Time_Step : 270 |  update number : 239 |\n",
      "Episode : 13 | Score : 16.0 | Avg score : 20.8 | Time_Step : 286 |  update number : 255 |\n",
      "Episode : 14 | Score : 10.0 | Avg score : 18.4 | Time_Step : 296 |  update number : 265 |\n",
      "Episode : 15 | Score : 43.0 | Avg score : 20.6 | Time_Step : 339 |  update number : 308 |\n",
      "Episode : 16 | Score : 23.0 | Avg score : 21.4 | Time_Step : 362 |  update number : 331 |\n",
      "Episode : 17 | Score : 20.0 | Avg score : 21.2 | Time_Step : 382 |  update number : 351 |\n",
      "------ Save model ------\n",
      "Episode : 18 | Score : 62.0 | Avg score : 26.3 | Time_Step : 444 |  update number : 413 |\n",
      "Episode : 19 | Score : 17.0 | Avg score : 26.3 | Time_Step : 461 |  update number : 430 |\n",
      "Episode : 20 | Score : 10.0 | Avg score : 24.1 | Time_Step : 471 |  update number : 440 |\n",
      "Episode : 21 | Score : 25.0 | Avg score : 25.4 | Time_Step : 496 |  update number : 465 |\n",
      "Episode : 22 | Score : 23.0 | Avg score : 24.9 | Time_Step : 519 |  update number : 488 |\n",
      "------ Save model ------\n",
      "Episode : 23 | Score : 41.0 | Avg score : 27.4 | Time_Step : 560 |  update number : 529 |\n",
      "------ Save model ------\n",
      "Episode : 24 | Score : 38.0 | Avg score : 30.2 | Time_Step : 598 |  update number : 567 |\n",
      "Episode : 25 | Score : 22.0 | Avg score : 28.1 | Time_Step : 620 |  update number : 589 |\n",
      "Episode : 26 | Score : 21.0 | Avg score : 27.9 | Time_Step : 641 |  update number : 610 |\n",
      "------ Save model ------\n",
      "Episode : 27 | Score : 73.0 | Avg score : 33.2 | Time_Step : 714 |  update number : 683 |\n",
      "------ Save model ------\n",
      "Episode : 28 | Score : 147.0 | Avg score : 41.7 | Time_Step : 861 |  update number : 830 |\n",
      "------ Save model ------\n",
      "Episode : 29 | Score : 67.0 | Avg score : 46.7 | Time_Step : 928 |  update number : 897 |\n",
      "------ Save model ------\n",
      "Episode : 30 | Score : 42.0 | Avg score : 49.9 | Time_Step : 970 |  update number : 939 |\n",
      "| Episode : 31 | Score : 30.0 | Predict Score : 165.0 | Avg score : 49.9 |\n",
      "------ Save model ------\n",
      "Episode : 31 | Score : 30.0 | Avg score : 50.4 | Time_Step : 1001 |  update number : 970 |\n",
      "------ Save model ------\n",
      "Episode : 32 | Score : 200.0 | Avg score : 68.1 | Time_Step : 1201 |  update number : 1170 |\n",
      "------ Save model ------\n",
      "Episode : 33 | Score : 200.0 | Avg score : 84.0 | Time_Step : 1401 |  update number : 1370 |\n",
      "------ Save model ------\n",
      "Episode : 34 | Score : 114.0 | Avg score : 91.6 | Time_Step : 1515 |  update number : 1484 |\n",
      "------ Save model ------\n",
      "Episode : 35 | Score : 200.0 | Avg score : 109.4 | Time_Step : 1715 |  update number : 1684 |\n",
      "------ Save model ------\n",
      "Episode : 36 | Score : 82.0 | Avg score : 115.5 | Time_Step : 1797 |  update number : 1766 |\n",
      "------ Save model ------\n",
      "Episode : 37 | Score : 121.0 | Avg score : 120.3 | Time_Step : 1918 |  update number : 1887 |\n",
      "| Episode : 38 | Score : 82.0 | Predict Score : 200.0 | Avg score : 120.3 |\n",
      "Episode : 38 | Score : 83.0 | Avg score : 113.9 | Time_Step : 2001 |  update number : 1970 |\n",
      "------ Save model ------\n",
      "Episode : 39 | Score : 200.0 | Avg score : 127.2 | Time_Step : 2201 |  update number : 2170 |\n",
      "------ Save model ------\n",
      "Episode : 40 | Score : 200.0 | Avg score : 143.0 | Time_Step : 2401 |  update number : 2370 |\n",
      "------ Save model ------\n",
      "Episode : 41 | Score : 200.0 | Avg score : 160.0 | Time_Step : 2601 |  update number : 2570 |\n",
      "Episode : 42 | Score : 200.0 | Avg score : 160.0 | Time_Step : 2801 |  update number : 2770 |\n",
      "| Episode : 43 | Score : 199.0 | Predict Score : 200.0 | Avg score : 160.0 |\n",
      "Episode : 43 | Score : 200.0 | Avg score : 160.0 | Time_Step : 3001 |  update number : 2970 |\n",
      "------ Save model ------\n",
      "Episode : 44 | Score : 200.0 | Avg score : 168.6 | Time_Step : 3201 |  update number : 3170 |\n",
      "Episode : 45 | Score : 200.0 | Avg score : 168.6 | Time_Step : 3401 |  update number : 3370 |\n",
      "------ Save model ------\n",
      "Episode : 46 | Score : 200.0 | Avg score : 180.4 | Time_Step : 3601 |  update number : 3570 |\n",
      "------ Save model ------\n",
      "Episode : 47 | Score : 200.0 | Avg score : 188.3 | Time_Step : 3801 |  update number : 3770 |\n",
      "| Episode : 48 | Score : 199.0 | Predict Score : 200.0 | Avg score : 188.3 |\n",
      "------ Save model ------\n",
      "Stop Training\n"
     ]
    }
   ],
   "metadata": {}
  },
  {
   "cell_type": "code",
   "execution_count": 23,
   "source": [
    "runner.evaluate()"
   ],
   "outputs": [
    {
     "output_type": "execute_result",
     "data": {
      "text/plain": [
       "200.0"
      ]
     },
     "metadata": {},
     "execution_count": 23
    }
   ],
   "metadata": {}
  },
  {
   "cell_type": "code",
   "execution_count": 24,
   "source": [
    "dqn_total_path = './model/DQN/CartPole-v0/episode_return.txt'\n",
    "dqn_step_path = './model/DQN/CartPole-v0/step_return.txt'\n",
    "dqn_total =  np.loadtxt(dqn_total_path, delimiter=',')\n",
    "dqn_step =  np.loadtxt(dqn_step_path, delimiter=',')"
   ],
   "outputs": [],
   "metadata": {}
  },
  {
   "cell_type": "code",
   "execution_count": 25,
   "source": [
    "def var_name(var,all_var=locals()):\n",
    "    return [var_name for var_name in all_var if all_var[var_name] is var][0]"
   ],
   "outputs": [],
   "metadata": {}
  },
  {
   "cell_type": "code",
   "execution_count": 26,
   "source": [
    "import matplotlib.pyplot as plt\n",
    "import os\n",
    "import numpy as np\n",
    "def _step_plot(scores):\n",
    "    plt.figure(figsize=(10,5))\n",
    "    plt.title(\"Step Reward\")\n",
    "    plt.grid(True)\n",
    "\n",
    "    name = var_name(scores).replace('_step', '')\n",
    "\n",
    "    plt.xlabel(\"step * 1000\")\n",
    "    plt.ylabel(\"Average Reward\")\n",
    "    plt.plot(scores, \"r-\", linewidth=1.5, label= name + \"_reward\")\n",
    "    plt.legend(loc=\"best\", shadow=True)\n",
    "    plt.show()\n",
    "\n",
    "def _avg_plot(scores):\n",
    "    plt.figure(figsize=(10,5))\n",
    "    plt.title(\"Reward\")\n",
    "    plt.grid(True)\n",
    "\n",
    "    name = var_name(scores).replace('_total', '')\n",
    "\n",
    "    z = [c+1 for c in range(len(scores))]\n",
    "    running_avg = np.zeros(len(scores))\n",
    "    for e in range(len(running_avg)):\n",
    "        running_avg[e] = np.mean(scores[max(0, e-10):(e+1)])\n",
    "\n",
    "    plt.xlabel(\"Episode\")\n",
    "    plt.ylabel(\"Total Reward\")\n",
    "    plt.plot(scores, \"r-\", linewidth=1.5, label= name + \"_reward\")\n",
    "    plt.plot(z, running_avg, \"b-\", linewidth=1.5, label= name + \"_avg_reward\")\n",
    "    plt.legend(loc=\"best\", shadow=True)\n",
    "    plt.show()"
   ],
   "outputs": [],
   "metadata": {}
  },
  {
   "cell_type": "code",
   "execution_count": 27,
   "source": [
    "_step_plot(dqn_step)\n",
    "_avg_plot(dqn_total)"
   ],
   "outputs": [
    {
     "output_type": "display_data",
     "data": {
      "text/plain": [
       "<Figure size 720x360 with 1 Axes>"
      ],
      "image/png": "[encoded data removed]"
     },
     "metadata": {
      "needs_background": "light"
     }
    },
    {
     "output_type": "display_data",
     "data": {
      "text/plain": [
       "<Figure size 720x360 with 1 Axes>"
      ],
      "image/png": "[encoded data removed]"
     },
     "metadata": {
      "needs_background": "light"
     }
    }
   ],
   "metadata": {}
  },
  {
   "cell_type": "code",
   "execution_count": null,
   "source": [],
   "outputs": [],
   "metadata": {}
  }
 ],
 "metadata": {
  "interpreter": {
   "hash": "bba30a25a81a90b6d7123894724ac5138cdc8bf3a1e5482f113b59173b970984"
  },
  "kernelspec": {
   "name": "python3",
   "display_name": "Python 3.7.10 64-bit ('RL': conda)"
  },
  "language_info": {
   "codemirror_mode": {
    "name": "ipython",
    "version": 3
   },
   "file_extension": ".py",
   "mimetype": "text/x-python",
   "name": "python",
   "nbconvert_exporter": "python",
   "pygments_lexer": "ipython3",
   "version": "3.7.10"
  },
  "orig_nbformat": 4
 },
 "nbformat": 4,
 "nbformat_minor": 2
}